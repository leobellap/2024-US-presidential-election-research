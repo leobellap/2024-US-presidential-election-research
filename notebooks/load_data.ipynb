{
 "cells": [
  {
   "cell_type": "markdown",
   "metadata": {},
   "source": [
    "## Import libs and config data"
   ]
  },
  {
   "cell_type": "code",
   "execution_count": null,
   "metadata": {},
   "outputs": [],
   "source": [
    "import praw\n",
    "from datetime import datetime\n",
    "import configparser\n",
    "import time\n",
    "from tqdm import tqdm\n",
    "import pandas as pd\n",
    "\n",
    "config = configparser.ConfigParser()\n",
    "config.read(\"config.ini\")\n",
    "\n",
    "reddit = praw.Reddit(\n",
    "    client_id=config.get(\"reddit\", \"client_id\"),\n",
    "    client_secret=config.get(\"reddit\", \"client_secret\"),\n",
    "    user_agent=config.get(\"reddit\", \"user_agent\"),\n",
    "    check_for_async=False,\n",
    ")"
   ]
  },
  {
   "cell_type": "markdown",
   "metadata": {},
   "source": [
    "## Load data from Reddit"
   ]
  },
  {
   "cell_type": "markdown",
   "metadata": {},
   "source": [
    "### Top posts"
   ]
  },
  {
   "cell_type": "code",
   "execution_count": 2,
   "metadata": {},
   "outputs": [
    {
     "name": "stderr",
     "output_type": "stream",
     "text": [
      "75it [02:02,  1.64s/it]\n"
     ]
    },
    {
     "data": {
      "text/plain": [
       "16992"
      ]
     },
     "execution_count": 2,
     "metadata": {},
     "output_type": "execute_result"
    }
   ],
   "source": [
    "subreddit = reddit.subreddit(\"politics\")\n",
    "\n",
    "comms_top = []\n",
    "\n",
    "# Получаем список самых обсуждаемых тем за день\n",
    "top_submissions = subreddit.top(time_filter=\"day\", limit=75)\n",
    "\n",
    "# Проходим по всем обсуждаемым темам\n",
    "for submission in tqdm(top_submissions):\n",
    "    # Проверяем, что тема была создана за последние 24 часа\n",
    "    if submission.created_utc > time.time() - 24 * 60 * 60:\n",
    "        submission.comments.replace_more(\n",
    "            limit=0\n",
    "        )  # Загружаем только те комментарии, которые алгоритмы Reddit считают самыми важными\n",
    "        for comment in submission.comments.list():\n",
    "            comms_top.append(comment.body)\n",
    "\n",
    "len(comms_top)"
   ]
  },
  {
   "cell_type": "markdown",
   "metadata": {},
   "source": [
    "### Hot posts"
   ]
  },
  {
   "cell_type": "code",
   "execution_count": 3,
   "metadata": {},
   "outputs": [
    {
     "name": "stderr",
     "output_type": "stream",
     "text": [
      "75it [01:54,  1.53s/it]\n"
     ]
    },
    {
     "data": {
      "text/plain": [
       "16046"
      ]
     },
     "execution_count": 3,
     "metadata": {},
     "output_type": "execute_result"
    }
   ],
   "source": [
    "comms_hot = []\n",
    "\n",
    "# Получаем список самых обсуждаемых тем за день\n",
    "hot_submissions = subreddit.hot(limit=75)\n",
    "\n",
    "# Проходим по всем обсуждаемым темам\n",
    "for submission in tqdm(hot_submissions):\n",
    "    # Проверяем, что тема была создана за последние 24 часа\n",
    "    if submission.created_utc > time.time() - 24 * 60 * 60:\n",
    "        submission.comments.replace_more(\n",
    "            limit=0\n",
    "        )  # Загружаем только те комментарии, которые алгоритмы Reddit считают самыми важными\n",
    "        for comment in submission.comments.list():\n",
    "            comms_hot.append(comment.body)\n",
    "len(comms_hot)"
   ]
  },
  {
   "cell_type": "markdown",
   "metadata": {},
   "source": [
    "### Save data to csv"
   ]
  },
  {
   "cell_type": "code",
   "execution_count": 4,
   "metadata": {},
   "outputs": [],
   "source": [
    "def save_data(comments, top_or_hot):\n",
    "    # Сохраним данные в csv\n",
    "    current_date = datetime.now().strftime(\"%Y_%m_%d\")\n",
    "    current_time = datetime.now().strftime(\"%H_%M_%S\")\n",
    "    df = pd.DataFrame(data=comments, columns=[\"comments\"])\n",
    "    df[\"date\"] = current_date\n",
    "    df[\"time\"] = current_time\n",
    "    df.to_csv(\n",
    "        f\"original_data/{top_or_hot}/{subreddit.display_name}_{current_date}.csv\",\n",
    "        index=False,\n",
    "    )"
   ]
  },
  {
   "cell_type": "code",
   "execution_count": 5,
   "metadata": {},
   "outputs": [],
   "source": [
    "save_data(comms_top, \"top\")\n",
    "save_data(comms_hot, \"hot\")"
   ]
  }
 ],
 "metadata": {
  "kernelspec": {
   "display_name": ".venv",
   "language": "python",
   "name": "python3"
  },
  "language_info": {
   "codemirror_mode": {
    "name": "ipython",
    "version": 3
   },
   "file_extension": ".py",
   "mimetype": "text/x-python",
   "name": "python",
   "nbconvert_exporter": "python",
   "pygments_lexer": "ipython3",
   "version": "3.10.12"
  }
 },
 "nbformat": 4,
 "nbformat_minor": 2
}
